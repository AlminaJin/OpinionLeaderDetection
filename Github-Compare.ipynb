{
 "cells": [
  {
   "cell_type": "code",
   "execution_count": null,
   "metadata": {},
   "outputs": [],
   "source": [
    "from scipy.stats import kendalltau\n",
    "import pickle\n",
    "import pandas as pd\n",
    "import re"
   ]
  },
  {
   "cell_type": "code",
   "execution_count": null,
   "metadata": {},
   "outputs": [],
   "source": [
    "def seekSimilarity(list1, list2, num):\n",
    "    result = 0\n",
    "    for i in range(int(num)):\n",
    "        for j in range(num):\n",
    "            if list1[i] == list2[j]:\n",
    "                result += 1\n",
    "    return result  "
   ]
  },
  {
   "cell_type": "code",
   "execution_count": null,
   "metadata": {},
   "outputs": [],
   "source": [
    "def seekSimMatrix(matrix1, matrix2, numList):\n",
    "    for i in matrix1.columns:\n",
    "        for j in matrix2.columns:\n",
    "            for k in numList:\n",
    "                result = seekSimilarity(matrix1[i], matrix2[j], k)"
   ]
  },
  {
   "cell_type": "code",
   "execution_count": null,
   "metadata": {},
   "outputs": [],
   "source": [
    "def kendall(list1, list2, start,end):\n",
    "    corr, _ = kendalltau(list1[start:end], list2[start:end])\n",
    "    return corr"
   ]
  },
  {
   "cell_type": "code",
   "execution_count": null,
   "metadata": {},
   "outputs": [],
   "source": [
    "def kendallMatrix(matrix1, matrix2, start,end):\n",
    "    for i in matrix1.columns:\n",
    "        for j in matrix2.columns:\n",
    "            result = kendall(matrix1[i], matrix2[j], start,end)\n",
    "            rounded_num = round(result, 5)\n",
    "            print(i,j,rounded_num)"
   ]
  },
  {
   "cell_type": "code",
   "execution_count": null,
   "metadata": {},
   "outputs": [],
   "source": [
    "# split rank to level 1 - level 5\n",
    "import math\n",
    "def initialRank(inputList,n):\n",
    "    result = {}\n",
    "    for i, item in enumerate(inputList):\n",
    "        position = math.ceil((i + 1) / n)\n",
    "        result[item] = position\n",
    "    return result\n",
    "\n",
    "# create kendall tau for ordinal categorical data\n",
    "from itertools import combinations\n",
    "def kendallCat(x, y):\n",
    "    concordant, discordant = 0, 0\n",
    "    for i,j in combinations(x.keys(),2):\n",
    "        if (x[i] < x[j] and y[i] < y[j]) or (x[i] > x[j] and y[i] > y[j]) or (x[i] == x[j] and y[i] == y[j]):\n",
    "            concordant += 1\n",
    "        elif (x[i] < x[j] and y[i] > y[j]) or (x[i] > x[j] and y[i] < y[j]):\n",
    "            discordant += 1\n",
    "    n = len(x)\n",
    "    tau = (concordant - discordant) / ((n * (n - 1)) / 2)\n",
    "    return tau\n",
    "\n",
    "# compute matrix\n",
    "def kendallCatMatrix(matrix1, matrix2):\n",
    "    for i in matrix1.columns:\n",
    "        resultString = ''\n",
    "        for j in matrix2.columns:\n",
    "            print(i,j)\n",
    "            x = initialRank(matrix1[i],30)\n",
    "            y = initialRank(matrix2[j],30)\n",
    "            result = kendallCat(x,y)\n",
    "            rounded_num = round(result, 5)\n",
    "#             print(i,j,rounded_num)\n",
    "            resultString = resultString + str(rounded_num)+'&'\n",
    "        print(resultString)\n",
    "        print()"
   ]
  },
  {
   "cell_type": "code",
   "execution_count": null,
   "metadata": {},
   "outputs": [],
   "source": [
    "unweightedRank = pickle.load(open(\"./pfile/unweightedRank.p\", \"rb\"))\n",
    "weightedRank = pickle.load(open(\"./pfile/weightedRank.p\", \"rb\"))\n",
    "Overall = pickle.load(open(\"./pfile/Overall.p\", \"rb\"))\n",
    "matrix = pickle.load(open(\"./pfile/matrix.p\", \"rb\"))\n",
    "filterMatrix = pickle.load(open(\"./pfile/filterMatrix.p\", \"rb\"))\n",
    "reverseWeight = pickle.load(open(\"./pfile/reverseWeightedRank.p\", \"rb\"))"
   ]
  },
  {
   "cell_type": "code",
   "execution_count": null,
   "metadata": {},
   "outputs": [],
   "source": [
    "kendallCatMatrix(matrix,matrixDf)"
   ]
  },
  {
   "cell_type": "code",
   "execution_count": null,
   "metadata": {},
   "outputs": [],
   "source": [
    "kendallCatMatrix(filterMatrix,matrixDf)"
   ]
  }
 ],
 "metadata": {
  "kernelspec": {
   "display_name": "Python 3",
   "language": "python",
   "name": "python3"
  },
  "language_info": {
   "codemirror_mode": {
    "name": "ipython",
    "version": 3
   },
   "file_extension": ".py",
   "mimetype": "text/x-python",
   "name": "python",
   "nbconvert_exporter": "python",
   "pygments_lexer": "ipython3",
   "version": "3.8.5"
  }
 },
 "nbformat": 4,
 "nbformat_minor": 4
}
